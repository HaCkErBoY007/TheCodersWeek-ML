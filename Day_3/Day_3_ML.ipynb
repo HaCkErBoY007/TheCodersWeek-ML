{
  "nbformat": 4,
  "nbformat_minor": 0,
  "metadata": {
    "colab": {
      "name": "Day_3_ML.ipynb",
      "provenance": [],
      "authorship_tag": "ABX9TyMeN4prlEzDwGvQH4gD1J1V",
      "include_colab_link": true
    },
    "kernelspec": {
      "name": "python3",
      "display_name": "Python 3"
    },
    "accelerator": "GPU"
  },
  "cells": [
    {
      "cell_type": "markdown",
      "metadata": {
        "id": "view-in-github",
        "colab_type": "text"
      },
      "source": [
        "<a href=\"https://colab.research.google.com/github/HaCkErBoY007/TheCodersWeek-ML/blob/master/Day_3/Day_3_ML.ipynb\" target=\"_parent\"><img src=\"https://colab.research.google.com/assets/colab-badge.svg\" alt=\"Open In Colab\"/></a>"
      ]
    },
    {
      "cell_type": "code",
      "metadata": {
        "id": "X-A-F4R7a4eS",
        "colab_type": "code",
        "colab": {}
      },
      "source": [
        "# Importing the libraries\n",
        "import numpy as np\n",
        "import matplotlib.pyplot as plt\n",
        "import pandas as pd\n",
        "from sklearn.model_selection import train_test_split\n",
        "from sklearn import tree\n",
        "from sklearn.metrics import accuracy_score"
      ],
      "execution_count": 0,
      "outputs": []
    },
    {
      "cell_type": "code",
      "metadata": {
        "id": "JMQn9hetaCfH",
        "colab_type": "code",
        "colab": {}
      },
      "source": [
        "# Importing the dataset\n",
        "dataset = pd.read_csv('http://iali.in/datasets/mushrooms.csv')"
      ],
      "execution_count": 0,
      "outputs": []
    },
    {
      "cell_type": "code",
      "metadata": {
        "id": "izdLAbknaCWu",
        "colab_type": "code",
        "colab": {}
      },
      "source": [
        "# Encoding categorical data and avoiding dummy trap\n",
        "df_dummies = pd.get_dummies(dataset[dataset.columns[:]], drop_first = True)"
      ],
      "execution_count": 0,
      "outputs": []
    },
    {
      "cell_type": "code",
      "metadata": {
        "id": "vC4y9506aCOr",
        "colab_type": "code",
        "colab": {}
      },
      "source": [
        "x = df_dummies.iloc[:,1:].values\n",
        "y = df_dummies.iloc[:,0].values"
      ],
      "execution_count": 0,
      "outputs": []
    },
    {
      "cell_type": "code",
      "metadata": {
        "id": "pVfJ86kSaCD1",
        "colab_type": "code",
        "colab": {}
      },
      "source": [
        "# Splitting dataset into training set and test set\n",
        "x_train, x_test, y_train, y_test = train_test_split(x, y, test_size = 0.2)"
      ],
      "execution_count": 0,
      "outputs": []
    },
    {
      "cell_type": "code",
      "metadata": {
        "id": "w7HYX48faBNo",
        "colab_type": "code",
        "colab": {}
      },
      "source": [
        "#fitting the decision tree to training set\n",
        "clf = tree.DecisionTreeClassifier()\n",
        "clf = clf.fit(x_train, y_train)"
      ],
      "execution_count": 0,
      "outputs": []
    },
    {
      "cell_type": "code",
      "metadata": {
        "id": "j9TQSnw3nB8x",
        "colab_type": "code",
        "colab": {}
      },
      "source": [
        "#predicting the test set results\n",
        "y_pred = clf.predict(x_test)"
      ],
      "execution_count": 0,
      "outputs": []
    },
    {
      "cell_type": "code",
      "metadata": {
        "id": "oocwsb1YnHGk",
        "colab_type": "code",
        "colab": {
          "base_uri": "https://localhost:8080/",
          "height": 35
        },
        "outputId": "2b07263e-ef34-46b2-cb9a-c36d8eea69aa"
      },
      "source": [
        "#check accuracy score\n",
        "accuracy_score(y_pred, y_test)"
      ],
      "execution_count": 8,
      "outputs": [
        {
          "output_type": "execute_result",
          "data": {
            "text/plain": [
              "1.0"
            ]
          },
          "metadata": {
            "tags": []
          },
          "execution_count": 8
        }
      ]
    },
    {
      "cell_type": "code",
      "metadata": {
        "id": "oT4iM6c5oNqW",
        "colab_type": "code",
        "colab": {}
      },
      "source": [
        "#dataframe\n",
        "df = pd.DataFrame({'Actual':y_test, 'Predicted':y_pred})"
      ],
      "execution_count": 0,
      "outputs": []
    },
    {
      "cell_type": "code",
      "metadata": {
        "id": "PbuG0-cboQFr",
        "colab_type": "code",
        "colab": {
          "base_uri": "https://localhost:8080/",
          "height": 594
        },
        "outputId": "ab9eb4e4-0172-43f8-82d9-dd3fd50ffee5"
      },
      "source": [
        "#plot the results\n",
        "df1 = df.head(25)\n",
        "df1.plot(kind = 'bar', figsize = (16, 10))\n",
        "plt.grid(which = 'major', linestyle = '-', linewidth = '1', color = 'green')\n",
        "plt.grid(which = 'minor', linestyle = ':', linewidth = '1', color = 'black')\n",
        "plt.show()"
      ],
      "execution_count": 10,
      "outputs": [
        {
          "output_type": "display_data",
          "data": {
            "image/png": "[encoded data removed]",
            "text/plain": [
              "<Figure size 1152x720 with 1 Axes>"
            ]
          },
          "metadata": {
            "tags": [],
            "needs_background": "light"
          }
        }
      ]
    }
  ]
}