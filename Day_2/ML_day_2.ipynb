{
  "nbformat": 4,
  "nbformat_minor": 0,
  "metadata": {
    "colab": {
      "name": "ML_day_2.ipynb",
      "provenance": [],
      "authorship_tag": "ABX9TyNTXIMFKpGjjUCallyl871F",
      "include_colab_link": true
    },
    "kernelspec": {
      "name": "python3",
      "display_name": "Python 3"
    },
    "accelerator": "GPU"
  },
  "cells": [
    {
      "cell_type": "markdown",
      "metadata": {
        "id": "view-in-github",
        "colab_type": "text"
      },
      "source": [
        "<a href=\"https://colab.research.google.com/github/HaCkErBoY007/TheCodersWeek-ML/blob/master/Day_2/ML_day_2.ipynb\" target=\"_parent\"><img src=\"https://colab.research.google.com/assets/colab-badge.svg\" alt=\"Open In Colab\"/></a>"
      ]
    },
    {
      "cell_type": "code",
      "metadata": {
        "id": "FE6EnGGVMqu_",
        "colab_type": "code",
        "colab": {}
      },
      "source": [
        "#importing libraries\n",
        "import pandas as pd\n",
        "from sklearn.model_selection import train_test_split\n",
        "from sklearn import tree\n",
        "from sklearn.metrics import accuracy_score\n",
        "from sklearn.metrics import classification_report\n",
        "import matplotlib.pyplot as plt"
      ],
      "execution_count": 0,
      "outputs": []
    },
    {
      "cell_type": "code",
      "metadata": {
        "id": "sjUtJdlYMrIB",
        "colab_type": "code",
        "colab": {}
      },
      "source": [
        "#reading the dataset and preprocessing\n",
        "dataset = pd.read_csv('http://iali.in/datasets/Social_Network_Ads.csv')\n",
        "\n",
        "x = dataset.iloc[:,[2,3]].values\n",
        "y = dataset.iloc[:,4].values"
      ],
      "execution_count": 0,
      "outputs": []
    },
    {
      "cell_type": "code",
      "metadata": {
        "id": "dI28m1ByMrEM",
        "colab_type": "code",
        "colab": {
          "base_uri": "https://localhost:8080/",
          "height": 78
        },
        "outputId": "d78fb852-c3e7-4bb9-fef9-22a2901d68f6"
      },
      "source": [
        "#sample randomly\n",
        "dataset.sample()"
      ],
      "execution_count": 3,
      "outputs": [
        {
          "output_type": "execute_result",
          "data": {
            "text/html": [
              "<div>\n",
              "<style scoped>\n",
              "    .dataframe tbody tr th:only-of-type {\n",
              "        vertical-align: middle;\n",
              "    }\n",
              "\n",
              "    .dataframe tbody tr th {\n",
              "        vertical-align: top;\n",
              "    }\n",
              "\n",
              "    .dataframe thead th {\n",
              "        text-align: right;\n",
              "    }\n",
              "</style>\n",
              "<table border=\"1\" class=\"dataframe\">\n",
              "  <thead>\n",
              "    <tr style=\"text-align: right;\">\n",
              "      <th></th>\n",
              "      <th>User ID</th>\n",
              "      <th>Gender</th>\n",
              "      <th>Age</th>\n",
              "      <th>EstimatedSalary</th>\n",
              "      <th>Purchased</th>\n",
              "    </tr>\n",
              "  </thead>\n",
              "  <tbody>\n",
              "    <tr>\n",
              "      <th>368</th>\n",
              "      <td>15779744</td>\n",
              "      <td>Male</td>\n",
              "      <td>38</td>\n",
              "      <td>71000</td>\n",
              "      <td>0</td>\n",
              "    </tr>\n",
              "  </tbody>\n",
              "</table>\n",
              "</div>"
            ],
            "text/plain": [
              "      User ID Gender  Age  EstimatedSalary  Purchased\n",
              "368  15779744   Male   38            71000          0"
            ]
          },
          "metadata": {
            "tags": []
          },
          "execution_count": 3
        }
      ]
    },
    {
      "cell_type": "code",
      "metadata": {
        "id": "k_9z-2CaMrAr",
        "colab_type": "code",
        "colab": {
          "base_uri": "https://localhost:8080/",
          "height": 288
        },
        "outputId": "270f9333-5ad7-434b-fff1-c87489e4ff1b"
      },
      "source": [
        "#generate descriptive statistics\n",
        "dataset.describe()"
      ],
      "execution_count": 4,
      "outputs": [
        {
          "output_type": "execute_result",
          "data": {
            "text/html": [
              "<div>\n",
              "<style scoped>\n",
              "    .dataframe tbody tr th:only-of-type {\n",
              "        vertical-align: middle;\n",
              "    }\n",
              "\n",
              "    .dataframe tbody tr th {\n",
              "        vertical-align: top;\n",
              "    }\n",
              "\n",
              "    .dataframe thead th {\n",
              "        text-align: right;\n",
              "    }\n",
              "</style>\n",
              "<table border=\"1\" class=\"dataframe\">\n",
              "  <thead>\n",
              "    <tr style=\"text-align: right;\">\n",
              "      <th></th>\n",
              "      <th>User ID</th>\n",
              "      <th>Age</th>\n",
              "      <th>EstimatedSalary</th>\n",
              "      <th>Purchased</th>\n",
              "    </tr>\n",
              "  </thead>\n",
              "  <tbody>\n",
              "    <tr>\n",
              "      <th>count</th>\n",
              "      <td>4.000000e+02</td>\n",
              "      <td>400.000000</td>\n",
              "      <td>400.000000</td>\n",
              "      <td>400.000000</td>\n",
              "    </tr>\n",
              "    <tr>\n",
              "      <th>mean</th>\n",
              "      <td>1.569154e+07</td>\n",
              "      <td>37.655000</td>\n",
              "      <td>69742.500000</td>\n",
              "      <td>0.357500</td>\n",
              "    </tr>\n",
              "    <tr>\n",
              "      <th>std</th>\n",
              "      <td>7.165832e+04</td>\n",
              "      <td>10.482877</td>\n",
              "      <td>34096.960282</td>\n",
              "      <td>0.479864</td>\n",
              "    </tr>\n",
              "    <tr>\n",
              "      <th>min</th>\n",
              "      <td>1.556669e+07</td>\n",
              "      <td>18.000000</td>\n",
              "      <td>15000.000000</td>\n",
              "      <td>0.000000</td>\n",
              "    </tr>\n",
              "    <tr>\n",
              "      <th>25%</th>\n",
              "      <td>1.562676e+07</td>\n",
              "      <td>29.750000</td>\n",
              "      <td>43000.000000</td>\n",
              "      <td>0.000000</td>\n",
              "    </tr>\n",
              "    <tr>\n",
              "      <th>50%</th>\n",
              "      <td>1.569434e+07</td>\n",
              "      <td>37.000000</td>\n",
              "      <td>70000.000000</td>\n",
              "      <td>0.000000</td>\n",
              "    </tr>\n",
              "    <tr>\n",
              "      <th>75%</th>\n",
              "      <td>1.575036e+07</td>\n",
              "      <td>46.000000</td>\n",
              "      <td>88000.000000</td>\n",
              "      <td>1.000000</td>\n",
              "    </tr>\n",
              "    <tr>\n",
              "      <th>max</th>\n",
              "      <td>1.581524e+07</td>\n",
              "      <td>60.000000</td>\n",
              "      <td>150000.000000</td>\n",
              "      <td>1.000000</td>\n",
              "    </tr>\n",
              "  </tbody>\n",
              "</table>\n",
              "</div>"
            ],
            "text/plain": [
              "            User ID         Age  EstimatedSalary   Purchased\n",
              "count  4.000000e+02  400.000000       400.000000  400.000000\n",
              "mean   1.569154e+07   37.655000     69742.500000    0.357500\n",
              "std    7.165832e+04   10.482877     34096.960282    0.479864\n",
              "min    1.556669e+07   18.000000     15000.000000    0.000000\n",
              "25%    1.562676e+07   29.750000     43000.000000    0.000000\n",
              "50%    1.569434e+07   37.000000     70000.000000    0.000000\n",
              "75%    1.575036e+07   46.000000     88000.000000    1.000000\n",
              "max    1.581524e+07   60.000000    150000.000000    1.000000"
            ]
          },
          "metadata": {
            "tags": []
          },
          "execution_count": 4
        }
      ]
    },
    {
      "cell_type": "code",
      "metadata": {
        "id": "gE7_xol5Mq8Y",
        "colab_type": "code",
        "colab": {}
      },
      "source": [
        "# Splitting dataset into training set and test set\n",
        "x_train, x_test, y_train, y_test = train_test_split(x, y, test_size = 0.2)"
      ],
      "execution_count": 0,
      "outputs": []
    },
    {
      "cell_type": "code",
      "metadata": {
        "id": "zmaXo_YJMq5m",
        "colab_type": "code",
        "colab": {}
      },
      "source": [
        "#fitting the decision tree to training set\n",
        "clf = tree.DecisionTreeClassifier()\n",
        "clf = clf.fit(x_train, y_train)"
      ],
      "execution_count": 0,
      "outputs": []
    },
    {
      "cell_type": "code",
      "metadata": {
        "id": "DMpsqhnDMq2G",
        "colab_type": "code",
        "colab": {}
      },
      "source": [
        "#predicting the test set results\n",
        "y_pred = clf.predict(x_test)"
      ],
      "execution_count": 0,
      "outputs": []
    },
    {
      "cell_type": "code",
      "metadata": {
        "id": "jUi3FEsBPopM",
        "colab_type": "code",
        "colab": {
          "base_uri": "https://localhost:8080/",
          "height": 35
        },
        "outputId": "f06ffd2f-f871-44a6-ff95-9eaf9389905b"
      },
      "source": [
        "#check accuracy score\n",
        "accuracy_score(y_pred, y_test)"
      ],
      "execution_count": 8,
      "outputs": [
        {
          "output_type": "execute_result",
          "data": {
            "text/plain": [
              "0.9"
            ]
          },
          "metadata": {
            "tags": []
          },
          "execution_count": 8
        }
      ]
    },
    {
      "cell_type": "code",
      "metadata": {
        "id": "0lRGWIOxQIX4",
        "colab_type": "code",
        "colab": {
          "base_uri": "https://localhost:8080/",
          "height": 55
        },
        "outputId": "a1dec28c-1539-49a8-bd1c-6d8a7c9cf794"
      },
      "source": [
        "#classification report\n",
        "classes = ['0', '1']\n",
        "classification_report(y_test, y_pred, target_names = classes)"
      ],
      "execution_count": 9,
      "outputs": [
        {
          "output_type": "execute_result",
          "data": {
            "text/plain": [
              "'              precision    recall  f1-score   support\\n\\n           0       0.92      0.92      0.92        52\\n           1       0.86      0.86      0.86        28\\n\\n    accuracy                           0.90        80\\n   macro avg       0.89      0.89      0.89        80\\nweighted avg       0.90      0.90      0.90        80\\n'"
            ]
          },
          "metadata": {
            "tags": []
          },
          "execution_count": 9
        }
      ]
    },
    {
      "cell_type": "code",
      "metadata": {
        "id": "03j7StU-QqtT",
        "colab_type": "code",
        "colab": {}
      },
      "source": [
        "#dataframe\n",
        "df = pd.DataFrame({'Actual':y_test, 'Predicted':y_pred})"
      ],
      "execution_count": 0,
      "outputs": []
    },
    {
      "cell_type": "code",
      "metadata": {
        "id": "rrsO2yuURU93",
        "colab_type": "code",
        "colab": {
          "base_uri": "https://localhost:8080/",
          "height": 594
        },
        "outputId": "4d7512cc-fb26-4e19-9979-57372c96fab4"
      },
      "source": [
        "#plot the results\n",
        "df1 = df.head(25)\n",
        "df1.plot(kind = 'bar', figsize = (16, 10))\n",
        "plt.grid(which = 'major', linestyle = '-', linewidth = '1', color = 'green')\n",
        "plt.grid(which = 'minor', linestyle = ':', linewidth = '1', color = 'black')\n",
        "plt.show()"
      ],
      "execution_count": 11,
      "outputs": [
        {
          "output_type": "display_data",
          "data": {
            "image/png": "[encoded data removed]",
            "text/plain": [
              "<Figure size 1152x720 with 1 Axes>"
            ]
          },
          "metadata": {
            "tags": [],
            "needs_background": "light"
          }
        }
      ]
    }
  ]
}