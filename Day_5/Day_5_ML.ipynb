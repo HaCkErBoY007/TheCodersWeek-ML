{
  "nbformat": 4,
  "nbformat_minor": 0,
  "metadata": {
    "colab": {
      "name": "Day_5_ML.ipynb",
      "provenance": [],
      "authorship_tag": "ABX9TyN8EDM/O0G0EUNmGLpg9C33",
      "include_colab_link": true
    },
    "kernelspec": {
      "name": "python3",
      "display_name": "Python 3"
    },
    "accelerator": "GPU"
  },
  "cells": [
    {
      "cell_type": "markdown",
      "metadata": {
        "id": "view-in-github",
        "colab_type": "text"
      },
      "source": [
        "<a href=\"https://colab.research.google.com/github/HaCkErBoY007/TheCodersWeek-ML/blob/master/Day_5/Day_5_ML.ipynb\" target=\"_parent\"><img src=\"https://colab.research.google.com/assets/colab-badge.svg\" alt=\"Open In Colab\"/></a>"
      ]
    },
    {
      "cell_type": "code",
      "metadata": {
        "id": "19WBYTqgHerK",
        "colab_type": "code",
        "colab": {}
      },
      "source": [
        "# Import neccesary libraries\n",
        "import re \n",
        "import tweepy \n",
        "from tweepy import OAuthHandler \n",
        "from textblob import TextBlob\n",
        "import matplotlib\n",
        "import nltk"
      ],
      "execution_count": 0,
      "outputs": []
    },
    {
      "cell_type": "code",
      "metadata": {
        "id": "iZIcoGglEM1r",
        "colab_type": "code",
        "colab": {}
      },
      "source": [
        "class TwitterClient(object): \n",
        "    ''' \n",
        "    Generic Twitter Class for sentiment analysis. \n",
        "    '''\n",
        "    def __init__(self): \n",
        "        # keys and tokens from the Twitter Dev Console \n",
        "        consumer_key = 'cogBUrNz46BDIaKYFsVIdlNnk'\n",
        "        consumer_secret = 'GvUnHphKMuisKCfd4VjkYcCBxmXX0e6h4tmJg1fptbxChPAE2Y'\n",
        "        access_token = '3702205286-64JiaLIXZEQSXB9VtXOWXExpzWta7Q9mVNwPWZ4'\n",
        "        access_token_secret = 'jLStQsUdrr53olUVIiWv7zfZlzEXPcmi70o4cgTGZn5e9'\n",
        "  \n",
        "        # attempt authentication \n",
        "        try: \n",
        "            self.auth = OAuthHandler(consumer_key, consumer_secret) \n",
        "            self.auth.set_access_token(access_token, access_token_secret) \n",
        "            self.api = tweepy.API(self.auth) \n",
        "        except: \n",
        "            print(\"Error: Authentication Failed\") \n",
        "  \n",
        "    def clean_tweet(self, tweet): \n",
        "        # clean tweet text by removing links, special characters \n",
        "        return ' '.join(re.sub(\"(@[A-Za-z0-9]+)|([^0-9A-Za-z \\t])|(\\w+:\\/\\/\\S+)\", \" \", tweet).split()) \n",
        "  \n",
        "    def get_tweet_sentiment(self, tweet): \n",
        "        #function to classify sentiment of passed tweet \n",
        "        analysis = TextBlob(self.clean_tweet(tweet)) \n",
        "        if analysis.sentiment.polarity > 0: \n",
        "            return 'positive'\n",
        "        elif analysis.sentiment.polarity == 0: \n",
        "            return 'neutral'\n",
        "        else: \n",
        "            return 'negative'\n",
        "  \n",
        "    def get_tweets(self, query, count = 10):\n",
        "        # Main function to fetch tweets and parse them. \n",
        "        tweets = [] \n",
        "  \n",
        "        try:  \n",
        "            fetched_tweets = self.api.search(q = query, count = count) \n",
        "            for tweet in fetched_tweets: \n",
        "                parsed_tweet = {}\n",
        "                parsed_tweet['text'] = tweet.text \n",
        "                parsed_tweet['sentiment'] = self.get_tweet_sentiment(tweet.text) \n",
        "                if tweet.retweet_count > 0: \n",
        "                    if parsed_tweet not in tweets: \n",
        "                        tweets.append(parsed_tweet) \n",
        "                else: \n",
        "                    tweets.append(parsed_tweet)\n",
        "            return tweets \n",
        "  \n",
        "        except tweepy.TweepError as e: \n",
        "            print(f\"Error : {str(e)}\")"
      ],
      "execution_count": 0,
      "outputs": []
    },
    {
      "cell_type": "code",
      "metadata": {
        "id": "9c-53sohF_MT",
        "colab_type": "code",
        "colab": {}
      },
      "source": [
        "# Creating object of TwitterClient Class \n",
        "api = TwitterClient() "
      ],
      "execution_count": 0,
      "outputs": []
    },
    {
      "cell_type": "code",
      "metadata": {
        "id": "2BKrbA20GQxf",
        "colab_type": "code",
        "colab": {}
      },
      "source": [
        "# Calling function to get tweets \n",
        "tweets = api.get_tweets(query = 'Narendra Modi', count = 200) "
      ],
      "execution_count": 0,
      "outputs": []
    },
    {
      "cell_type": "code",
      "metadata": {
        "id": "ktHt13x5GTSv",
        "colab_type": "code",
        "colab": {
          "base_uri": "https://localhost:8080/",
          "height": 34
        },
        "outputId": "f9ffe71f-e99c-4063-bf86-273f5cdacd7b"
      },
      "source": [
        "# picking positive tweets from tweets \n",
        "ptweets = [tweet for tweet in tweets if tweet['sentiment'] == 'positive'] \n",
        "\n",
        "# percentage of positive tweets \n",
        "print(f\"Positive tweets percentage: {100*len(ptweets)/len(tweets)} %\")     "
      ],
      "execution_count": 5,
      "outputs": [
        {
          "output_type": "stream",
          "text": [
            "Positive tweets percentage: 31.914893617021278 %\n"
          ],
          "name": "stdout"
        }
      ]
    },
    {
      "cell_type": "code",
      "metadata": {
        "id": "irlC4RwpGcFg",
        "colab_type": "code",
        "colab": {
          "base_uri": "https://localhost:8080/",
          "height": 34
        },
        "outputId": "dacb4958-4700-45ea-85ca-033defbedf3a"
      },
      "source": [
        "# picking negative tweets from tweets \n",
        "ntweets = [tweet for tweet in tweets if tweet['sentiment'] == 'negative']\n",
        "\n",
        "# percentage of negative tweets \n",
        "print(f\"Negative tweets percentage: {100*len(ntweets)/len(tweets)} %\")     "
      ],
      "execution_count": 6,
      "outputs": [
        {
          "output_type": "stream",
          "text": [
            "Negative tweets percentage: 6.382978723404255 %\n"
          ],
          "name": "stdout"
        }
      ]
    },
    {
      "cell_type": "code",
      "metadata": {
        "id": "3oGqILlbGikP",
        "colab_type": "code",
        "colab": {
          "base_uri": "https://localhost:8080/",
          "height": 34
        },
        "outputId": "ca74fdf2-597d-4932-99ed-cb00547d4d1d"
      },
      "source": [
        "# percentage of neutral tweets \n",
        "print(f\"Neutral tweets percentage: {100*(len(tweets) -(len( ntweets )+len( ptweets)))/len(tweets)} %\")"
      ],
      "execution_count": 7,
      "outputs": [
        {
          "output_type": "stream",
          "text": [
            "Neutral tweets percentage: 61.702127659574465 %\n"
          ],
          "name": "stdout"
        }
      ]
    },
    {
      "cell_type": "code",
      "metadata": {
        "id": "PDE_zyVNGkhX",
        "colab_type": "code",
        "colab": {
          "base_uri": "https://localhost:8080/",
          "height": 374
        },
        "outputId": "6f58ab3d-f87c-4406-c1ff-502b96028797"
      },
      "source": [
        "# printing first 5 positive tweets \n",
        "print(\"Positive tweets:\")\n",
        "for tweet in ptweets[:10]:\n",
        "  print(tweet['text'])"
      ],
      "execution_count": 8,
      "outputs": [
        {
          "output_type": "stream",
          "text": [
            "Positive tweets:\n",
            "RT @RanaAyyub: Safoora Zargar is in prison while the real intellectual architects of the recent anti-Muslim carnage that rocked Delhi in Fe…\n",
            "PM reiterates the pledge to preserve the planet’s rich biodiversity\n",
            "https://t.co/czBtucZgGI via NaMo App https://t.co/3G7mCi9aHO\n",
            "RT @vinodjose: Arundhati Roy: Really the only politician who is openly attacking Narendra Modi is Rahul Gandhi. He doesn't have much suppor…\n",
            "RT @PChidambaram_IN: My @IndianExpress Column | #AcrosstheAisle: ‘Getting growth back not difficult’\n",
            "\n",
            "https://t.co/3Cj3DucpQ0\n",
            "\n",
            "@nsitharaman…\n",
            "#Mobility4MiddleClass\n",
            "This article tells you more about how a shift in the national leadership towards merit-based… https://t.co/sdfPG5WWPO\n",
            "RT @anilkhanna248: #ModiBestPmEver\n",
            "\n",
            "PM reiterates the pledge to preserve the planet’s rich biodiversity\n",
            "https://t.co/RLYQZZ1NuM via NaMo Ap…\n",
            "RT @IndianExpress: #ExpressOpinion | Axe your current economic advisers and bring in a new team that will give you sound advice, @PChidamba…\n",
            "RT @dhume: Why is Narendra Modi a flop as an economic reformer? ⁦@ShekharGupta⁩ blames the bureaucracy.  https://t.co/Eq9xVXvMOU\n",
            "RT @MutilatedDreams: Axe your current economic advisers and bring in a new team that will give you sound advice - @PChidambaram_IN\n",
            "Hope san…\n",
            "RT @uditjoshi4: #Mobility4MiddleClass This article tells you more about how a shift in the national leadership towards merit based system s…\n"
          ],
          "name": "stdout"
        }
      ]
    },
    {
      "cell_type": "code",
      "metadata": {
        "id": "7YuXZQbsGmnC",
        "colab_type": "code",
        "colab": {
          "base_uri": "https://localhost:8080/",
          "height": 119
        },
        "outputId": "2e0bc0cd-46c2-4f14-c91a-6f8d0e19ace5"
      },
      "source": [
        "# printing first 5 negative tweets \n",
        "print(\"Negative tweets:\") \n",
        "for tweet in ntweets[:10]:\n",
        "  print(tweet['text'])"
      ],
      "execution_count": 9,
      "outputs": [
        {
          "output_type": "stream",
          "text": [
            "Negative tweets:\n",
            "RT @DeepikaBhardwaj: Alka Lamba abuses Yogeshwar Dutts Mother, Narendra Modi, Yogi Adityanath. No Action\n",
            "\n",
            "Preeti Menon abuses Smriti Irani.…\n",
            "RT @gops33: Narendra Modi is adopting the wrong lessons of history https://t.co/aNXNgRHuHW via @scroll_in\n",
            "Economist Arjun Jayadev describes Narendra Modi's fiscal policy as remarkably poor in wake of COVID-19 pandemic… https://t.co/v4QM0MzUFb\n"
          ],
          "name": "stdout"
        }
      ]
    }
  ]
}